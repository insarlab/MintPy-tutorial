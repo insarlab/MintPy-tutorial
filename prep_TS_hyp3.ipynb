{
 "cells": [
  {
   "cell_type": "markdown",
   "metadata": {},
   "source": [
    "# Introduction to time-series analysis of HyP3 product with MintPy"
   ]
  },
  {
   "cell_type": "markdown",
   "metadata": {},
   "source": [
    "## Introduction\n",
    "This notebook shows you how to do time-series analysis against HyP3 product with MintPy. This tutorial assumes that you have already successfully installed the MintPy and created the conda environment.\n",
    "Detail installation info is refferered at https://github.com/insarlab/MintPy."
   ]
  },
  {
   "cell_type": "markdown",
   "metadata": {},
   "source": [
    "## Run the application"
   ]
  },
  {
   "cell_type": "markdown",
   "metadata": {},
   "source": [
    "Before running the program, some package need to be installed and imported."
   ]
  },
  {
   "cell_type": "code",
   "execution_count": null,
   "metadata": {},
   "outputs": [],
   "source": [
    "!conda install -y -c conda-forge hyp3_sdk ipywidgets"
   ]
  },
  {
   "cell_type": "code",
   "execution_count": null,
   "metadata": {},
   "outputs": [],
   "source": [
    "import os\n",
    "import re\n",
    "import glob\n",
    "import zipfile\n",
    "import numpy as np\n",
    "import hyp3_sdk as sdk"
   ]
  },
  {
   "cell_type": "markdown",
   "metadata": {},
   "source": [
    "Set project name, output directory and change to the output directory"
   ]
  },
  {
   "cell_type": "code",
   "execution_count": null,
   "metadata": {},
   "outputs": [],
   "source": [
    "projectname = input(\"project name:\") or \"case5\"\n",
    "outdir = input(\"home directory of the project\") or \"./tutorial\"\n",
    "os.system(\"mkdir -p {}\".format(outdir))\n",
    "print(projectname)\n",
    "print(outdir)\n",
    "os.chdir(outdir)"
   ]
  },
  {
   "cell_type": "markdown",
   "metadata": {},
   "source": [
    "### Download the hyp3 data"
   ]
  },
  {
   "cell_type": "markdown",
   "metadata": {},
   "source": [
    "The granule_list file includes the RTC file names that users wants to use them to produce the interferograms for the time-series analysis purpose. Users usually prepare this file with ASF vertex (https://serach.asf.alaska.edu). In this example, we assume users have the granule_list in their hands. The content of the granule_list are:"
   ]
  },
  {
   "cell_type": "markdown",
   "metadata": {},
   "source": [
    "User autentication"
   ]
  },
  {
   "cell_type": "code",
   "execution_count": null,
   "metadata": {},
   "outputs": [],
   "source": [
    "hyp3 = sdk.HyP3(prompt = True)"
   ]
  },
  {
   "cell_type": "markdown",
   "metadata": {},
   "source": [
    "Submit the jobs with hyp3-sdk and download the files "
   ]
  },
  {
   "cell_type": "code",
   "execution_count": null,
   "metadata": {},
   "outputs": [],
   "source": [
    "reference_granule = 'S1A_IW_SLC__1SSV_20160112T205113_20160112T205140_009466_00DBA8_C430'\n",
    "\n",
    "secondary_granules = [\n",
    "    'S1A_IW_SLC__1SSV_20160205T205112_20160205T205139_009816_00E5D1_997E',\n",
    "    'S1A_IW_SLC__1SSV_20160229T205112_20160229T205139_010166_00EFF4_357E',\n",
    "    'S1A_IW_SLC__1SSV_20160324T205112_20160324T205139_010516_00F9E8_FA1C',\n",
    "    'S1A_IW_SLC__1SSV_20160417T205113_20160417T205140_010866_010443_7429',\n",
    "    'S1A_IW_SLC__1SSV_20160511T205115_20160511T205142_011216_010F42_BD06',\n",
    "    'S1A_IW_SLC__1SSV_20160604T205107_20160604T205135_011566_011A9C_EDD4',\n",
    "    'S1A_IW_SLC__1SSV_20160628T205108_20160628T205136_011916_01259C_EE11'\n",
    "]"
   ]
  },
  {
   "cell_type": "code",
   "execution_count": null,
   "metadata": {},
   "outputs": [],
   "source": [
    "insar_jobs = sdk.Batch()\n",
    "\n",
    "for secondary_granule in secondary_granules:\n",
    "    insar_jobs += hyp3.submit_insar_job(reference_granule, secondary_granule,\n",
    "                                        name=projectname, include_inc_map=True,\n",
    "                                        include_dem=True)"
   ]
  },
  {
   "cell_type": "code",
   "execution_count": null,
   "metadata": {},
   "outputs": [],
   "source": [
    "insar_jobs = hyp3.watch(insar_jobs)"
   ]
  },
  {
   "cell_type": "code",
   "execution_count": null,
   "metadata": {
    "scrolled": true
   },
   "outputs": [],
   "source": [
    "zip_files = insar_jobs.download_files()\n",
    "\n",
    "for zip_file in zip_files:\n",
    "    with zipfile.ZipFile(zip_file) as zip_ref:\n",
    "        zip_ref.extractall(outdir)"
   ]
  },
  {
   "cell_type": "markdown",
   "metadata": {},
   "source": [
    "Downloaded ifm files are here"
   ]
  },
  {
   "cell_type": "code",
   "execution_count": null,
   "metadata": {},
   "outputs": [],
   "source": [
    "! tree {outdir}"
   ]
  },
  {
   "cell_type": "markdown",
   "metadata": {},
   "source": [
    "### Organize the data into the structure that MintPy requests"
   ]
  },
  {
   "cell_type": "markdown",
   "metadata": {},
   "source": [
    "#### Clip the geotiff files in the current directory and its subdirectories"
   ]
  },
  {
   "cell_type": "code",
   "execution_count": null,
   "metadata": {},
   "outputs": [],
   "source": [
    "from osgeo import gdal\n",
    "\n",
    "pattern = os.path.join(outdir, '**/*.tif')\n",
    "files = glob.glob(pattern)\n",
    "\n",
    "# determine the smallest area covered by all input files\n",
    "corners = [gdal.Info(f, format='json')['cornerCoordinates'] for f in files]\n",
    "ulx = max(corner['upperLeft'][0] for corner in corners)\n",
    "uly = min(corner['upperLeft'][1] for corner in corners)\n",
    "lrx = min(corner['lowerRight'][0] for corner in corners)\n",
    "lry = max(corner['lowerRight'][1] for corner in corners)\n",
    "\n",
    "# subset all input files to these common coordinates\n",
    "for f in files:\n",
    "    output_filename = f.replace('.tif', '_clip.tif')\n",
    "    gdal.Translate(destName=output_filename, srcDS=f, projWin=[ulx, uly, lrx, lry])"
   ]
  },
  {
   "cell_type": "markdown",
   "metadata": {},
   "source": [
    "Prepared data structure are:"
   ]
  },
  {
   "cell_type": "code",
   "execution_count": null,
   "metadata": {},
   "outputs": [],
   "source": [
    "! tree {outdir}"
   ]
  },
  {
   "cell_type": "markdown",
   "metadata": {},
   "source": [
    "### Configure the custom cfg file in the outdir"
   ]
  },
  {
   "cell_type": "markdown",
   "metadata": {},
   "source": [
    "Show the cunstom cfg file  "
   ]
  },
  {
   "cell_type": "code",
   "execution_count": null,
   "metadata": {},
   "outputs": [],
   "source": [
    "from pathlib import Path\n",
    "\n",
    "config = f'''\n",
    "mintpy.load.processor        = hyp3\n",
    "##---------interferogram datasets:\n",
    "mintpy.load.unwFile          = {outdir}/*/*unw_phase_clip.tif\n",
    "mintpy.load.corFile          = {outdir}/*/*corr_clip.tif\n",
    "##---------geometry datasets:\n",
    "mintpy.load.demFile          = {outdir}/*/*dem_clip.tif\n",
    "mintpy.load.incAngleFile     = {outdir}/*/*inc_map_clip.tif\n",
    "'''\n",
    "config_file = f'{projectname}.cfg'\n",
    "Path(config_file).write_text(config)"
   ]
  },
  {
   "cell_type": "code",
   "execution_count": null,
   "metadata": {},
   "outputs": [],
   "source": [
    "f=open(config_file)\n",
    "lines = f.readlines()\n",
    "print(\"\\n\".join(lines))\n",
    "f.close()"
   ]
  },
  {
   "cell_type": "markdown",
   "metadata": {},
   "source": [
    "### Run Time-series Analysis application\n"
   ]
  },
  {
   "cell_type": "code",
   "execution_count": null,
   "metadata": {},
   "outputs": [],
   "source": [
    "from mintpy import smallbaselineApp\n",
    "smallbaselineApp.main([config_file])"
   ]
  },
  {
   "cell_type": "markdown",
   "metadata": {},
   "source": [
    "## Display the analysis results\n",
    "\n",
    "There are a few scripts used to display the analysis results. There are in the MINTPY_HOME/mintpy. Here we show two majoy disaply scripts."
   ]
  },
  {
   "cell_type": "markdown",
   "metadata": {},
   "source": [
    "### Disaply velocity of displacement\n"
   ]
  },
  {
   "cell_type": "code",
   "execution_count": null,
   "metadata": {},
   "outputs": [],
   "source": [
    "%matplotlib notebook\n",
    "from mintpy import view\n",
    "view.main(['velocity.h5'])"
   ]
  },
  {
   "cell_type": "markdown",
   "metadata": {},
   "source": [
    "### Display the time-series of displacement"
   ]
  },
  {
   "cell_type": "code",
   "execution_count": null,
   "metadata": {},
   "outputs": [],
   "source": [
    "%matplotlib notebook\n",
    "from mintpy import tsview\n",
    "tsview.main(['timeseries.h5'])"
   ]
  },
  {
   "cell_type": "code",
   "execution_count": null,
   "metadata": {},
   "outputs": [],
   "source": []
  }
 ],
 "metadata": {
  "kernelspec": {
   "display_name": "mintpy",
   "language": "python",
   "name": "mintpy"
  },
  "language_info": {
   "codemirror_mode": {
    "name": "ipython",
    "version": 3
   },
   "file_extension": ".py",
   "mimetype": "text/x-python",
   "name": "python",
   "nbconvert_exporter": "python",
   "pygments_lexer": "ipython3",
   "version": "3.8.10"
  }
 },
 "nbformat": 4,
 "nbformat_minor": 4
}

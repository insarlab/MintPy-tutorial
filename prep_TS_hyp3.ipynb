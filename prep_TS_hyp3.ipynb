{
 "cells": [
  {
   "cell_type": "markdown",
   "metadata": {},
   "source": [
    "# Introduction to time-series analysis of HyP3 product with MintPy"
   ]
  },
  {
   "cell_type": "markdown",
   "metadata": {},
   "source": [
    "## Introduction\n",
    "This notebook shows you how to do time-series analysis against HyP3 product with MintPy. This tutorial assumes that you have already successfully installed the MintPy and created the conda environment.\n",
    "Detail installation info is refferered at https://github.com/insarlab/MintPy."
   ]
  },
  {
   "cell_type": "markdown",
   "metadata": {},
   "source": [
    "## Run the application"
   ]
  },
  {
   "cell_type": "markdown",
   "metadata": {},
   "source": [
    "Before running the program, some package need to be installed and imported."
   ]
  },
  {
   "cell_type": "code",
   "execution_count": null,
   "metadata": {},
   "outputs": [],
   "source": [
    "!conda install -y -c conda-forge hyp3_sdk ipywidgets"
   ]
  },
  {
   "cell_type": "code",
   "execution_count": null,
   "metadata": {},
   "outputs": [],
   "source": [
    "import os\n",
    "import re\n",
    "import glob\n",
    "import zipfile\n",
    "import numpy as np\n",
    "import hyp3_sdk as sdk"
   ]
  },
  {
   "cell_type": "markdown",
   "metadata": {},
   "source": [
    "Set project name, output directory and change to the output directory"
   ]
  },
  {
   "cell_type": "code",
   "execution_count": null,
   "metadata": {},
   "outputs": [],
   "source": [
    "projectname = input(\"project name:\") or \"case5\"\n",
    "outdir = input(\"home directory of the project\") or \"./tutorial\"\n",
    "os.system(\"mkdir -p {}\".format(outdir))\n",
    "print(projectname)\n",
    "print(outdir)\n",
    "os.chdir(outdir)"
   ]
  },
  {
   "cell_type": "markdown",
   "metadata": {},
   "source": [
    "### Download the hyp3 data"
   ]
  },
  {
   "cell_type": "markdown",
   "metadata": {},
   "source": [
    "The list of the granule pairs include the granule pairs that users want to use them to produce the interferograms for the time-series analysis purpose. Users usually prepare this list through the ASF vertex (https://serach.asf.alaska.edu). For example, we analysis the 2019 Ridgecrest earthquakes with the list of the granule pairs as defined in the following:"
   ]
  },
  {
   "cell_type": "code",
   "execution_count": null,
   "metadata": {},
   "outputs": [],
   "source": [
    "pairs = [\n",
    "  ('S1A_IW_SLC__1SDV_20190610T135156_20190610T135223_027618_031DEF_C70F', 'S1A_IW_SLC__1SDV_20190622T135157_20190622T135224_027793_03232E_0388'),\n",
    "  ('S1A_IW_SLC__1SDV_20190610T135156_20190610T135223_027618_031DEF_C70F', 'S1A_IW_SLC__1SDV_20190704T135158_20190704T135225_027968_032877_1C4D'),\n",
    "  ('S1A_IW_SLC__1SDV_20190622T135157_20190622T135224_027793_03232E_0388', 'S1A_IW_SLC__1SDV_20190704T135158_20190704T135225_027968_032877_1C4D'),\n",
    "  ('S1A_IW_SLC__1SDV_20190622T135157_20190622T135224_027793_03232E_0388', 'S1A_IW_SLC__1SDV_20190716T135159_20190716T135226_028143_032DC3_512B'),\n",
    "  ('S1A_IW_SLC__1SDV_20190704T135158_20190704T135225_027968_032877_1C4D', 'S1A_IW_SLC__1SDV_20190716T135159_20190716T135226_028143_032DC3_512B'),\n",
    "  ('S1A_IW_SLC__1SDV_20190704T135158_20190704T135225_027968_032877_1C4D', 'S1A_IW_SLC__1SDV_20190728T135159_20190728T135226_028318_03331A_C807'),\n",
    "  ('S1A_IW_SLC__1SDV_20190716T135159_20190716T135226_028143_032DC3_512B', 'S1A_IW_SLC__1SDV_20190728T135159_20190728T135226_028318_03331A_C807'),\n",
    "  ('S1A_IW_SLC__1SDV_20190716T135159_20190716T135226_028143_032DC3_512B', 'S1A_IW_SLC__1SDV_20190809T135200_20190809T135227_028493_033887_08A4'),\n",
    "  ('S1A_IW_SLC__1SDV_20190728T135159_20190728T135226_028318_03331A_C807', 'S1A_IW_SLC__1SDV_20190809T135200_20190809T135227_028493_033887_08A4'),\n",
    "  ('S1A_IW_SLC__1SDV_20190728T135159_20190728T135226_028318_03331A_C807', 'S1A_IW_SLC__1SDV_20190821T135201_20190821T135228_028668_033EA0_ADF7'),\n",
    "  ('S1A_IW_SLC__1SDV_20190809T135200_20190809T135227_028493_033887_08A4', 'S1A_IW_SLC__1SDV_20190821T135201_20190821T135228_028668_033EA0_ADF7'),\n",
    "  ('S1A_IW_SLC__1SDV_20190809T135200_20190809T135227_028493_033887_08A4', 'S1B_IW_SLC__1SDV_20190815T135119_20190815T135146_017597_0211A9_DE22'),\n",
    "  ('S1A_IW_SLC__1SDV_20190821T135201_20190821T135228_028668_033EA0_ADF7', 'S1B_IW_SLC__1SDV_20190815T135119_20190815T135146_017597_0211A9_DE22'),\n",
    "  ('S1A_IW_SLC__1SDV_20190821T135201_20190821T135228_028668_033EA0_ADF7', 'S1B_IW_SLC__1SDV_20190827T135119_20190827T135146_017772_021724_4F37'),\n",
    "  ('S1B_IW_SLC__1SDV_20190815T135119_20190815T135146_017597_0211A9_DE22', 'S1B_IW_SLC__1SDV_20190827T135119_20190827T135146_017772_021724_4F37'),\n",
    "]"
   ]
  },
  {
   "cell_type": "markdown",
   "metadata": {},
   "source": [
    "User autentication"
   ]
  },
  {
   "cell_type": "code",
   "execution_count": null,
   "metadata": {},
   "outputs": [],
   "source": [
    "hyp3 = sdk.HyP3(prompt = True)"
   ]
  },
  {
   "cell_type": "markdown",
   "metadata": {},
   "source": [
    "Submit the jobs with hyp3-sdk and download the files "
   ]
  },
  {
   "cell_type": "code",
   "execution_count": null,
   "metadata": {},
   "outputs": [],
   "source": [
    "insar_jobs = sdk.Batch()\n",
    "for pair in pairs:\n",
    "    reference_granule = pair[0]\n",
    "    secondary_granule = pair[1]\n",
    "    insar_jobs += hyp3.submit_insar_job(reference_granule, secondary_granule,\n",
    "                                        name=projectname, include_inc_map=True,\n",
    "                                        include_dem=True)"
   ]
  },
  {
   "cell_type": "code",
   "execution_count": null,
   "metadata": {},
   "outputs": [],
   "source": [
    "insar_jobs = hyp3.watch(insar_jobs)"
   ]
  },
  {
   "cell_type": "code",
   "execution_count": null,
   "metadata": {
    "scrolled": true
   },
   "outputs": [],
   "source": [
    "zip_files = insar_jobs.download_files()\n",
    "\n",
    "for zip_file in zip_files:\n",
    "    with zipfile.ZipFile(zip_file) as zip_ref:\n",
    "        zip_ref.extractall(outdir)"
   ]
  },
  {
   "cell_type": "markdown",
   "metadata": {},
   "source": [
    "Downloaded ifm files are here"
   ]
  },
  {
   "cell_type": "code",
   "execution_count": null,
   "metadata": {},
   "outputs": [],
   "source": [
    "! tree {outdir}"
   ]
  },
  {
   "cell_type": "markdown",
   "metadata": {},
   "source": [
    "### Organize the data into the structure that MintPy requests"
   ]
  },
  {
   "cell_type": "markdown",
   "metadata": {},
   "source": [
    "#### Clip the geotiff files in the current directory and its subdirectories"
   ]
  },
  {
   "cell_type": "code",
   "execution_count": null,
   "metadata": {},
   "outputs": [],
   "source": [
    "from osgeo import gdal\n",
    "\n",
    "pattern = os.path.join(outdir, '**/*.tif')\n",
    "files = glob.glob(pattern)\n",
    "\n",
    "# determine the smallest area covered by all input files\n",
    "corners = [gdal.Info(f, format='json')['cornerCoordinates'] for f in files]\n",
    "ulx = max(corner['upperLeft'][0] for corner in corners)\n",
    "uly = min(corner['upperLeft'][1] for corner in corners)\n",
    "lrx = min(corner['lowerRight'][0] for corner in corners)\n",
    "lry = max(corner['lowerRight'][1] for corner in corners)\n",
    "\n",
    "# subset all input files to these common coordinates\n",
    "for f in files:\n",
    "    output_filename = f.replace('.tif', '_clip.tif')\n",
    "    gdal.Translate(destName=output_filename, srcDS=f, projWin=[ulx, uly, lrx, lry])"
   ]
  },
  {
   "cell_type": "markdown",
   "metadata": {},
   "source": [
    "Prepared data structure are:"
   ]
  },
  {
   "cell_type": "code",
   "execution_count": null,
   "metadata": {},
   "outputs": [],
   "source": [
    "! tree {outdir}"
   ]
  },
  {
   "cell_type": "markdown",
   "metadata": {},
   "source": [
    "### Configure the custom cfg file in the outdir"
   ]
  },
  {
   "cell_type": "markdown",
   "metadata": {},
   "source": [
    "Show the cunstom cfg file  "
   ]
  },
  {
   "cell_type": "code",
   "execution_count": null,
   "metadata": {},
   "outputs": [],
   "source": [
    "from pathlib import Path\n",
    "\n",
    "config = f'''\n",
    "mintpy.load.processor        = hyp3\n",
    "##---------interferogram datasets:\n",
    "mintpy.load.unwFile          = {outdir}/*/*unw_phase_clip.tif\n",
    "mintpy.load.corFile          = {outdir}/*/*corr_clip.tif\n",
    "##---------geometry datasets:\n",
    "mintpy.load.demFile          = {outdir}/*/*dem_clip.tif\n",
    "mintpy.load.incAngleFile     = {outdir}/*/*inc_map_clip.tif\n",
    "'''\n",
    "config_file = f'{projectname}.cfg'\n",
    "Path(config_file).write_text(config)"
   ]
  },
  {
   "cell_type": "code",
   "execution_count": null,
   "metadata": {},
   "outputs": [],
   "source": [
    "f=open(config_file)\n",
    "lines = f.readlines()\n",
    "print(\"\\n\".join(lines))\n",
    "f.close()"
   ]
  },
  {
   "cell_type": "markdown",
   "metadata": {},
   "source": [
    "### Run Time-series Analysis application\n"
   ]
  },
  {
   "cell_type": "code",
   "execution_count": null,
   "metadata": {},
   "outputs": [],
   "source": [
    "from mintpy import smallbaselineApp\n",
    "smallbaselineApp.main([config_file])"
   ]
  },
  {
   "cell_type": "markdown",
   "metadata": {},
   "source": [
    "## Display the analysis results\n",
    "\n",
    "There are a few scripts used to display the analysis results. There are in the MINTPY_HOME/mintpy. Here we show two majoy disaply scripts."
   ]
  },
  {
   "cell_type": "markdown",
   "metadata": {},
   "source": [
    "### Disaply velocity of displacement\n"
   ]
  },
  {
   "cell_type": "code",
   "execution_count": null,
   "metadata": {},
   "outputs": [],
   "source": [
    "%matplotlib notebook\n",
    "from mintpy import view\n",
    "view.main(['velocity.h5'])"
   ]
  },
  {
   "cell_type": "markdown",
   "metadata": {},
   "source": [
    "### Display the time-series of displacement"
   ]
  },
  {
   "cell_type": "code",
   "execution_count": null,
   "metadata": {},
   "outputs": [],
   "source": [
    "%matplotlib notebook\n",
    "from mintpy import tsview\n",
    "tsview.main(['timeseries.h5'])"
   ]
  },
  {
   "cell_type": "code",
   "execution_count": null,
   "metadata": {},
   "outputs": [],
   "source": []
  }
 ],
 "metadata": {
  "kernelspec": {
   "display_name": "mintpy",
   "language": "python",
   "name": "mintpy"
  },
  "language_info": {
   "codemirror_mode": {
    "name": "ipython",
    "version": 3
   },
   "file_extension": ".py",
   "mimetype": "text/x-python",
   "name": "python",
   "nbconvert_exporter": "python",
   "pygments_lexer": "ipython3",
   "version": "3.8.10"
  }
 },
 "nbformat": 4,
 "nbformat_minor": 4
}

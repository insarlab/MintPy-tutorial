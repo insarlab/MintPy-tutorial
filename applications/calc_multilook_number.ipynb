{
 "cells": [
  {
   "cell_type": "markdown",
   "metadata": {},
   "source": [
    "## Calculate the number of looks for InSAR processing\n",
    "\n",
    "so that the output ground resolutions in azimuth and range direction are similar."
   ]
  },
  {
   "cell_type": "code",
   "execution_count": 1,
   "metadata": {},
   "outputs": [],
   "source": [
    "import os\n",
    "import numpy as np\n",
    "from mintpy.prep_isce import extract_stripmap_metadata, extract_tops_metadata\n",
    "\n",
    "EARTH_RADIUS = 6378122.65  # m\n",
    "HEIGHT = 698211.3346       # m\n",
    "\n",
    "def ground_resolution(az_pixel_size, rg_pixel_size, look_angle=30, alks=None, rlks=None):\n",
    "    az_pixel_size = float(az_pixel_size)\n",
    "    rg_pixel_size = float(rg_pixel_size)\n",
    "    az_spacing = az_pixel_size * EARTH_RADIUS / (EARTH_RADIUS + HEIGHT)\n",
    "    rg_spacing = rg_pixel_size / np.sin(look_angle / 180. * np.pi)\n",
    "    \n",
    "    print('Azimuth     pixel size: {:4.1f}'.format(az_pixel_size))\n",
    "    print('Azimuth ground spacing: {:4.1f}'.format(az_spacing))\n",
    "    if alks is not None:\n",
    "        print('Azimuth ground spacing: {:4.1f} after multilooking'.format(az_spacing*alks))\n",
    "    \n",
    "    print('Range       pixel size: {:4.1f}'.format(rg_pixel_size))\n",
    "    print('Range   ground spacing: {:4.1f}'.format(rg_spacing))\n",
    "    if rlks is not None:\n",
    "        print('Range   ground spacing: {:4.1f} after multilooking'.format(rg_spacing*rlks))\n",
    "    return"
   ]
  },
  {
   "cell_type": "markdown",
   "metadata": {},
   "source": [
    "### ALOS-1 StripMap"
   ]
  },
  {
   "cell_type": "code",
   "execution_count": 2,
   "metadata": {
    "scrolled": true
   },
   "outputs": [
    {
     "name": "stdout",
     "output_type": "stream",
     "text": [
      "Azimuth     pixel size:  3.5\n",
      "Azimuth ground spacing:  3.2\n",
      "Azimuth ground spacing: 31.8 after multilooking\n",
      "Range       pixel size:  4.7\n",
      "Range   ground spacing:  9.4\n",
      "Range   ground spacing: 37.5 after multilooking\n"
     ]
    }
   ],
   "source": [
    "# with $ISCE_STACK/prepRawALOS.py --dual2single/--fbd2fbs\n",
    "shelve_file = os.path.expanduser('~/insarlab/Kirishima/AlosAT424F620_630/isce/masterShelve/data.dat')\n",
    "meta = extract_stripmap_metadata(shelve_file)[0]\n",
    "ground_resolution(meta['azimuthPixelSize'], meta['rangePixelSize'], alks=10, rlks=4)"
   ]
  },
  {
   "cell_type": "markdown",
   "metadata": {},
   "source": [
    "### ALOS-2 StripMap"
   ]
  },
  {
   "cell_type": "code",
   "execution_count": 3,
   "metadata": {
    "scrolled": true
   },
   "outputs": [
    {
     "name": "stdout",
     "output_type": "stream",
     "text": [
      "Azimuth     pixel size:  2.0\n",
      "Azimuth ground spacing:  1.8\n",
      "Azimuth ground spacing: 18.4 after multilooking\n",
      "Range       pixel size:  1.4\n",
      "Range   ground spacing:  2.9\n",
      "Range   ground spacing: 22.9 after multilooking\n"
     ]
    }
   ],
   "source": [
    "shelve_file = os.path.expanduser('~/insarlab/Kirishima/Alos2AT131F620/isce/masterShelve/data.dat')\n",
    "meta = extract_stripmap_metadata(shelve_file)[0]\n",
    "ground_resolution(meta['azimuthPixelSize'], meta['rangePixelSize'], alks=10, rlks=8)"
   ]
  },
  {
   "cell_type": "markdown",
   "metadata": {},
   "source": [
    "### Sentinel-1"
   ]
  },
  {
   "cell_type": "code",
   "execution_count": 4,
   "metadata": {},
   "outputs": [
    {
     "name": "stdout",
     "output_type": "stream",
     "text": [
      "Azimuth     pixel size: 15.6\n",
      "Azimuth ground spacing: 14.1\n",
      "Azimuth ground spacing: 70.4 after multilooking\n",
      "Range       pixel size:  2.3\n",
      "Range   ground spacing:  4.7\n",
      "Range   ground spacing: 69.9 after multilooking\n"
     ]
    }
   ],
   "source": [
    "xml_file = os.path.expandvars('$TEST_DIR/FernandinaSenDT128/master/IW1.xml')\n",
    "meta = extract_tops_metadata(xml_file)[0]\n",
    "ground_resolution(meta['azimuthPixelSize'], meta['rangePixelSize'], alks=5, rlks=15)"
   ]
  },
  {
   "cell_type": "code",
   "execution_count": null,
   "metadata": {},
   "outputs": [],
   "source": []
  }
 ],
 "metadata": {
  "kernelspec": {
   "display_name": "Python 3",
   "language": "python",
   "name": "python3"
  },
  "language_info": {
   "codemirror_mode": {
    "name": "ipython",
    "version": 3
   },
   "file_extension": ".py",
   "mimetype": "text/x-python",
   "name": "python",
   "nbconvert_exporter": "python",
   "pygments_lexer": "ipython3",
   "version": "3.6.7"
  }
 },
 "nbformat": 4,
 "nbformat_minor": 2
}
